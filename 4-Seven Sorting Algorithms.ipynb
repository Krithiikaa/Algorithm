{
  "nbformat": 4,
  "nbformat_minor": 0,
  "metadata": {
    "colab": {
      "provenance": [],
      "authorship_tag": "ABX9TyO5x/WrcOHzXdet/dJknHYk",
      "include_colab_link": true
    },
    "kernelspec": {
      "name": "python3",
      "display_name": "Python 3"
    },
    "language_info": {
      "name": "python"
    }
  },
  "cells": [
    {
      "cell_type": "markdown",
      "metadata": {
        "id": "view-in-github",
        "colab_type": "text"
      },
      "source": [
        "<a href=\"https://colab.research.google.com/github/Krithiikaa/Algorithm/blob/main/4-Seven%20Sorting%20Algorithms.ipynb\" target=\"_parent\"><img src=\"https://colab.research.google.com/assets/colab-badge.svg\" alt=\"Open In Colab\"/></a>"
      ]
    },
    {
      "cell_type": "code",
      "execution_count": 14,
      "metadata": {
        "colab": {
          "base_uri": "https://localhost:8080/"
        },
        "id": "8hG60gIY5RSI",
        "outputId": "f7686583-e856-474f-8a10-ad57baa1b5a0"
      },
      "outputs": [
        {
          "output_type": "stream",
          "name": "stdout",
          "text": [
            "Sorted array: [11, 102, 192, 225, 522, 645, 9740]\n"
          ]
        }
      ],
      "source": [
        "def BUBBLE_SORT(arr):\n",
        "    n = len(arr)\n",
        "    for i in range(n):\n",
        "        for j in range(0, n - i - 1):\n",
        "            if arr[j] > arr[j + 1]:\n",
        "                arr[j], arr[j + 1] = arr[j + 1], arr[j]\n",
        "\n",
        "arr = [102, 645, 225, 192, 522, 11, 9740]\n",
        "BUBBLE_SORT(arr)\n",
        "print(\"Sorted array:\", arr)\n"
      ]
    },
    {
      "cell_type": "code",
      "source": [
        "def SELECTION_SORT(arr):\n",
        "    n = len(arr)\n",
        "    for i in range(n):\n",
        "        min_idx = i\n",
        "        for j in range(i + 1, n):\n",
        "            if arr[j] < arr[min_idx]:\n",
        "                min_idx = j\n",
        "        arr[i], arr[min_idx] = arr[min_idx], arr[i]\n",
        "\n",
        "\n",
        "arr = [86, 45, 259, 182, 222, 1471, 190]\n",
        "SELECTION_SORT(arr)\n",
        "print(\"Sorted array:\", arr)"
      ],
      "metadata": {
        "colab": {
          "base_uri": "https://localhost:8080/"
        },
        "id": "h2DjhGqy5jrq",
        "outputId": "31913853-be11-4a7b-e70b-6c422722792b"
      },
      "execution_count": 15,
      "outputs": [
        {
          "output_type": "stream",
          "name": "stdout",
          "text": [
            "Sorted array: [45, 86, 182, 190, 222, 259, 1471]\n"
          ]
        }
      ]
    },
    {
      "cell_type": "code",
      "source": [
        "def INSERTION_SORT(arr):\n",
        "    for i in range(1, len(arr)):\n",
        "        key = arr[i]\n",
        "        j = i - 1\n",
        "        while j >= 0 and key < arr[j]:\n",
        "            arr[j + 1] = arr[j]\n",
        "            j -= 1\n",
        "        arr[j + 1] = key\n",
        "\n",
        "arr = [66, 58, 254, 152, 422, 996, 980]\n",
        "INSERTION_SORT(arr)\n",
        "print(\"Sorted array:\", arr)\n"
      ],
      "metadata": {
        "colab": {
          "base_uri": "https://localhost:8080/"
        },
        "id": "DseoyLRd5j8x",
        "outputId": "0febd411-473e-4d92-ffb2-2bb391958cc7"
      },
      "execution_count": 17,
      "outputs": [
        {
          "output_type": "stream",
          "name": "stdout",
          "text": [
            "Sorted array: [58, 66, 152, 254, 422, 980, 996]\n"
          ]
        }
      ]
    },
    {
      "cell_type": "code",
      "source": [
        "def MERGE_SORT(arr):\n",
        "    if len(arr) > 1:\n",
        "        mid = len(arr) // 2\n",
        "        left_half = arr[:mid]\n",
        "        right_half = arr[mid:]\n",
        "        merge_sort(left_half)\n",
        "        merge_sort(right_half)\n",
        "        i = j = k = 0\n",
        "        while i < len(left_half) and j < len(right_half):\n",
        "            if left_half[i] < right_half[j]:\n",
        "                arr[k] = left_half[i]\n",
        "                i += 1\n",
        "            else:\n",
        "                arr[k] = right_half[j]\n",
        "                j += 1\n",
        "            k += 1\n",
        "        while i < len(left_half):\n",
        "            arr[k] = left_half[i]\n",
        "            i += 1\n",
        "            k += 1\n",
        "        while j < len(right_half):\n",
        "            arr[k] = right_half[j]\n",
        "            j += 1\n",
        "            k += 1\n",
        "\n",
        "\n",
        "arr = [816, 457, 259, 182, 222, 1471, 190]\n",
        "MERGE_SORT(arr)\n",
        "print(\"Sorted array:\", arr)"
      ],
      "metadata": {
        "colab": {
          "base_uri": "https://localhost:8080/"
        },
        "id": "eDCN1xjA5try",
        "outputId": "2dd5092f-5507-4a0c-d5cc-3acfc8bb1048"
      },
      "execution_count": 22,
      "outputs": [
        {
          "output_type": "stream",
          "name": "stdout",
          "text": [
            "Sorted array: [182, 190, 222, 259, 457, 816, 1471]\n"
          ]
        }
      ]
    },
    {
      "cell_type": "code",
      "source": [
        "def QUICK_SORT(arr):\n",
        "    if len(arr) <= 1:\n",
        "        return arr\n",
        "    pivot = arr[len(arr) // 2]\n",
        "    left = [x for x in arr if x < pivot]\n",
        "    middle = [x for x in arr if x == pivot]\n",
        "    right = [x for x in arr if x > pivot]\n",
        "    return quick_sort(left) + middle + quick_sort(right)\n",
        "\n",
        "\n",
        "arr = [484, 234, 925, 612, 202, 101, 490]\n",
        "sorted_arr = QUICK_SORT(arr)\n",
        "print(\"Sorted array:\", sorted_arr)\n"
      ],
      "metadata": {
        "colab": {
          "base_uri": "https://localhost:8080/"
        },
        "id": "itBAFv3B5t1y",
        "outputId": "23690f65-9c4c-42ac-e0d6-1b008931d134"
      },
      "execution_count": 23,
      "outputs": [
        {
          "output_type": "stream",
          "name": "stdout",
          "text": [
            "Sorted array: [101, 202, 234, 484, 490, 612, 925]\n"
          ]
        }
      ]
    },
    {
      "cell_type": "code",
      "source": [
        "import heapq\n",
        "\n",
        "def HEAP_SORT(arr):\n",
        "    heapq.heapify(arr)\n",
        "    return [heapq.heappop(arr) for _ in range(len(arr))]\n",
        "\n",
        "\n",
        "arr =[102, 645, 225, 192, 522, 101, 9740]\n",
        "sorted_arr = HEAP_SORT(arr)\n",
        "print(\"Sorted array:\", sorted_arr)\n"
      ],
      "metadata": {
        "colab": {
          "base_uri": "https://localhost:8080/"
        },
        "id": "Xaxe7j-z5ySq",
        "outputId": "eb74d5fa-3ec3-4bf5-9808-8af894473d47"
      },
      "execution_count": 20,
      "outputs": [
        {
          "output_type": "stream",
          "name": "stdout",
          "text": [
            "Sorted array: [101, 102, 192, 225, 522, 645, 9740]\n"
          ]
        }
      ]
    },
    {
      "cell_type": "code",
      "source": [
        "def COUNTING_SORT(arr):\n",
        "    max_val = max(arr)\n",
        "    count = [0] * (max_val + 1)\n",
        "    for num in arr:\n",
        "        count[num] += 1\n",
        "    sorted_arr = []\n",
        "    for i, freq in enumerate(count):\n",
        "        sorted_arr.extend([i] * freq)\n",
        "    return sorted_arr\n",
        "\n",
        "# Example usage\n",
        "arr = [66, 58, 254, 152, 422, 996, 980]\n",
        "sorted_arr = COUNTING_SORT(arr)\n",
        "print(\"Sorted array:\", sorted_arr)\n"
      ],
      "metadata": {
        "colab": {
          "base_uri": "https://localhost:8080/"
        },
        "id": "BrR4I8vA51Zp",
        "outputId": "aeeacd2b-9057-4f28-c54f-f6c2116ebf48"
      },
      "execution_count": 18,
      "outputs": [
        {
          "output_type": "stream",
          "name": "stdout",
          "text": [
            "Sorted array: [58, 66, 152, 254, 422, 980, 996]\n"
          ]
        }
      ]
    },
    {
      "cell_type": "code",
      "source": [],
      "metadata": {
        "id": "qB-lXXay5375"
      },
      "execution_count": null,
      "outputs": []
    }
  ]
}